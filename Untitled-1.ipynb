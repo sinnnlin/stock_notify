{
 "cells": [
  {
   "cell_type": "code",
   "execution_count": 60,
   "metadata": {},
   "outputs": [
    {
     "data": {
      "text/plain": [
       "{'股票代碼': '6669',\n",
       " '開盤': 1850.0,\n",
       " '最高': 2090.0,\n",
       " '最低': 1830.0,\n",
       " '收盤': 2075.0,\n",
       " '數量': 6494.0,\n",
       " '漲跌幅': 9.21}"
      ]
     },
     "execution_count": 60,
     "metadata": {},
     "output_type": "execute_result"
    }
   ],
   "source": [
    "import requests\n",
    "from bs4 import BeautifulSoup\n",
    "import re\n",
    "\n",
    "def stock_price(num):\n",
    "    stock_id = str(num)\n",
    "\n",
    "    url = f\"https://tw.quote.finance.yahoo.net/quote/q?type=ta&perd=d&mkt=10&sym={stock_id}&v=1&callback=jQuery111302872649618000682_1649814120914&_=1649814120915\"\n",
    "    headers = {'User-Agent': 'Mozilla/5.0 (Windows NT 10.0; Win64; x64) AppleWebKit/111.25 (KHTML, like Gecko) Chrome/99.0.2345.81 Safari/123.36'}\n",
    "    res = requests.get(url,headers=headers)\n",
    "    # 最新價格\n",
    "    current = [l for l in res.text.split('{') if len(l)>=60][-1]\n",
    "    current = current.replace('\"','').split(',')\n",
    "    # print(current)\n",
    "    # 昨日價格\n",
    "    yday_all = [l for l in res.text.split('{') if len(l)>=60][-2].split(',')\n",
    "    yday = float(re.search(':.*',yday_all[4]).group()[1:])\n",
    "    stock_dict = {'股票代碼':stock_id,\n",
    "        '開盤':float(re.search(':.*',current[1]).group()[1:]),\n",
    "        '最高':float(re.search(':.*',current[2]).group()[1:]),\n",
    "        '最低':float(re.search(':.*',current[3]).group()[1:]),\n",
    "        '收盤':float(re.search(':.*',current[4]).group()[1:]),\n",
    "        '數量':float(re.search(':.*',current[5].replace('}]','')).group()[1:]),\n",
    "        '漲跌幅':round((float(re.search(':.*',current[4]).group()[1:])/yday-1)*100,2)\n",
    "    }\n",
    "    return stock_dict\n",
    "\n",
    "stock_price(6669)"
   ]
  },
  {
   "cell_type": "code",
   "execution_count": 70,
   "metadata": {},
   "outputs": [],
   "source": [
    "def check_stock_price_change(stock_dict):\n",
    "    thresholds = [5,6,7,8,9,10]\n",
    "    for threshold in range(len(thresholds)-1,0,-1):\n",
    "        # print(thresholds[threshold])\n",
    "        if stock_dict['漲跌幅']<=thresholds[threshold]:\n",
    "            return rf\"目前股價漲幅為{stock_dict['漲跌幅']}%\"\n",
    "    \n",
    "\n"
   ]
  },
  {
   "cell_type": "code",
   "execution_count": 71,
   "metadata": {},
   "outputs": [],
   "source": [
    "def send_notify(message):\n",
    "    url = 'https://notify-api.line.me/api/notify'\n",
    "    token = 'cYGf4HZecMzcV6GwuugeHF3TUQ5xyOj5bYOzTUuUjRB'\n",
    "    headers = {\n",
    "        'Authorization': 'Bearer ' + token    # 設定權杖\n",
    "    }\n",
    "    stock_num = requests.post(url, headers=headers)   # \n",
    "    # print(stock_num.json())\n",
    "    data = {\n",
    "        'message':message     # 設定要發送的訊息\n",
    "    }\n",
    "    data = requests.post(url, headers=headers, data=data)   # 使用 POST 方法\n"
   ]
  },
  {
   "cell_type": "code",
   "execution_count": null,
   "metadata": {},
   "outputs": [],
   "source": [
    "def main ():\n",
    "    stock_dict = stock_price(6669)\n",
    "    message = check_stock_price_change(stock_dict)\n",
    "    send_notify(message)"
   ]
  },
  {
   "cell_type": "code",
   "execution_count": 1,
   "metadata": {},
   "outputs": [
    {
     "name": "stdout",
     "output_type": "stream",
     "text": [
      "test1: 2023-07-21 16:49:42.614994\n",
      "test1: 2023-07-21 16:51:42.626518\n",
      "test1: 2023-07-21 16:53:42.627028\n",
      "test1: 2023-07-21 16:55:42.632900\n",
      "test1: 2023-07-21 16:57:42.639948\n",
      "test1: 2023-07-21 16:59:42.652895\n"
     ]
    }
   ],
   "source": [
    "import time\n",
    "from datetime import datetime\n",
    "stop_time = datetime.now().replace(hour=17, minute=00, second=0, microsecond=0) \n",
    "def test():\n",
    "    print('test1:',datetime.now())\n",
    "    \n",
    "while  datetime.now() < stop_time:\n",
    "    test()\n",
    "    time.sleep(120)"
   ]
  }
 ],
 "metadata": {
  "kernelspec": {
   "display_name": "Python 3",
   "language": "python",
   "name": "python3"
  },
  "language_info": {
   "codemirror_mode": {
    "name": "ipython",
    "version": 3
   },
   "file_extension": ".py",
   "mimetype": "text/x-python",
   "name": "python",
   "nbconvert_exporter": "python",
   "pygments_lexer": "ipython3",
   "version": "3.10.8"
  },
  "orig_nbformat": 4
 },
 "nbformat": 4,
 "nbformat_minor": 2
}
